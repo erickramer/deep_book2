{
 "cells": [
  {
   "cell_type": "code",
   "execution_count": 165,
   "metadata": {},
   "outputs": [],
   "source": [
    "import os\n",
    "import re\n",
    "import random\n",
    "import spacy\n",
    "from ebooklib import epub\n",
    "from bs4 import BeautifulSoup"
   ]
  },
  {
   "cell_type": "code",
   "execution_count": 93,
   "metadata": {},
   "outputs": [],
   "source": [
    "def list_dir_recursive(d, files = []):\n",
    "    if os.path.isdir(d):\n",
    "        for f in os.listdir(d):\n",
    "            path = os.path.join(d, f)\n",
    "            list_dir_recursive(path, files)\n",
    "    files.append(d)\n",
    "    return files"
   ]
  },
  {
   "cell_type": "code",
   "execution_count": 170,
   "metadata": {},
   "outputs": [],
   "source": [
    "files = list_dir_recursive(\"../data/jk_rowling/\")\n",
    "books = [f for f in files if re.search(\"epub$\", f)]"
   ]
  },
  {
   "cell_type": "code",
   "execution_count": 171,
   "metadata": {},
   "outputs": [],
   "source": [
    "class EBook(object):\n",
    "    \n",
    "    def __init__(self, path):\n",
    "        self._path = path\n",
    "        self._epub = epub.read_epub(path)\n",
    "        self._paragraphs = None\n",
    "        \n",
    "    def _docs(self):\n",
    "        for doc in self._epub.get_items():\n",
    "            if doc.get_type() == 9: # these appear to be the html portions of the ebook\n",
    "                yield doc\n",
    "                \n",
    "    @property\n",
    "    def n_paragraphs(self):\n",
    "        return len(self.paragraphs)\n",
    "        \n",
    "    @property\n",
    "    def paragraphs(self):\n",
    "        if self._paragraphs is None:\n",
    "            ps = []\n",
    "            for doc in self._docs():\n",
    "                html = doc.content\n",
    "                bs = BeautifulSoup(html)\n",
    "                for item in bs.find_all(\"p\"):\n",
    "                    ps.append(item.text)\n",
    "            self._paragraphs = ps\n",
    "        return self._paragraphs\n",
    "    \n",
    "    def sample(self, n=5):\n",
    "        i = random.randint(0, self.n_paragraphs - (n+1))\n",
    "        return \"\\n\\n\".join(self.paragraphs[i:(i+n)])\n",
    "    "
   ]
  },
  {
   "cell_type": "code",
   "execution_count": 172,
   "metadata": {},
   "outputs": [],
   "source": [
    "e = EBook(books[4])\n",
    "paragraphs = e.paragraphs"
   ]
  },
  {
   "cell_type": "code",
   "execution_count": 173,
   "metadata": {},
   "outputs": [
    {
     "name": "stdout",
     "output_type": "stream",
     "text": [
      "Harry and Sirius were both laughing. Mundungus, who had toppled backward off his chair, was swearing as he got to his feet. Crookshanks had given an angry hiss and shot off under the dresser, from whence his large yellow eyes glowed in the darkness.\n",
      "\n",
      "“Boys,” Mr. Weasley said, lifting the stew back into the middle of the table, “your mother’s right, you’re supposed to show a sense of responsibility now you’ve come of age —”\n",
      "\n",
      "“— none of your brothers caused this sort of trouble!” Mrs. Weasley raged at the twins, slamming a fresh flagon of butterbeer onto the table and spilling almost as much again. “Bill didn’t feel the need to Apparate every few feet! Charlie didn’t Charm everything he met! Percy —”\n",
      "\n",
      "She stopped dead, catching her breath with a frightened look at her husband, whose expression was suddenly wooden.\n",
      "\n",
      "“Let’s eat,” said Bill quickly.\n",
      "\n",
      "“It looks wonderful, Molly,” said Lupin, ladling stew onto a plate for her and handing it across the table.\n",
      "\n",
      "For a few minutes there was silence but for the chink of plates and cutlery and the scraping of chairs as everyone settled down to their food. Then Mrs. Weasley turned to Sirius and said, “I’ve been meaning to tell you, there’s something trapped in that writing desk in the drawing room, it keeps rattling and shaking. Of course, it could just be a boggart, but I thought we ought to ask Alastor to have a look at it before we let it out.”\n",
      "\n",
      "“Whatever you like,” said Sirius indifferently.\n",
      "\n",
      "“The curtains in there are full of doxies too,” Mrs. Weasley went on. “I thought we might try and tackle them tomorrow.”\n",
      "\n",
      "“I look forward to it,” said Sirius. Harry heard the sarcasm in his voice, but he was not sure that anyone else did.\n",
      "\n",
      "Opposite Harry, Tonks was entertaining Hermione and Ginny by transforming her nose between mouthfuls. Screwing up her eyes each time with the same pained expression she had worn back in Harry’s bedroom, her nose swelled to a beaklike protuberance like Snape’s, shrank to something resembling a button mushroom, and then sprouted a great deal of hair from each nostril. Apparently this was a regular mealtime entertainment, because after a while Hermione and Ginny started requesting their favorite noses.\n",
      "\n",
      "“Do that one like a pig snout, Tonks …”\n",
      "\n",
      "Tonks obliged, and Harry, looking up, had the fleeting impression that a female Dudley was grinning at him from across the table.\n",
      "\n",
      "Mr. Weasley, Bill, and Lupin were having an intense discussion about goblins.\n",
      "\n",
      "“They’re not giving anything away yet,” said Bill. “I still can’t work out whether they believe he’s back or not. ’Course, they might prefer not to take sides at all. Keep out of it.”\n"
     ]
    }
   ],
   "source": [
    "print e.sample(15)"
   ]
  },
  {
   "cell_type": "code",
   "execution_count": 216,
   "metadata": {},
   "outputs": [],
   "source": [
    "nlp = spacy.load(\"en_core_web_md\")"
   ]
  },
  {
   "cell_type": "code",
   "execution_count": 175,
   "metadata": {},
   "outputs": [],
   "source": [
    "doc = nlp(e.sample(10))"
   ]
  },
  {
   "cell_type": "code",
   "execution_count": 176,
   "metadata": {},
   "outputs": [
    {
     "data": {
      "text/plain": [
       "(324, 384)"
      ]
     },
     "execution_count": 176,
     "metadata": {},
     "output_type": "execute_result"
    }
   ],
   "source": [
    "doc.tensor.shape"
   ]
  },
  {
   "cell_type": "code",
   "execution_count": 213,
   "metadata": {},
   "outputs": [],
   "source": [
    "v = nlp.vocab"
   ]
  },
  {
   "cell_type": "code",
   "execution_count": 218,
   "metadata": {},
   "outputs": [],
   "source": [
    "v = nlp.vocab.vectors"
   ]
  }
 ],
 "metadata": {
  "kernelspec": {
   "display_name": "Python 2",
   "language": "python",
   "name": "python2"
  },
  "language_info": {
   "codemirror_mode": {
    "name": "ipython",
    "version": 2
   },
   "file_extension": ".py",
   "mimetype": "text/x-python",
   "name": "python",
   "nbconvert_exporter": "python",
   "pygments_lexer": "ipython2",
   "version": "2.7.15"
  }
 },
 "nbformat": 4,
 "nbformat_minor": 2
}
