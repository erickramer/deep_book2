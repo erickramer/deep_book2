{
 "cells": [
  {
   "cell_type": "code",
   "execution_count": 1,
   "metadata": {},
   "outputs": [],
   "source": [
    "import ebooklib\n",
    "import ebooklib.epub\n",
    "import re\n",
    "import os\n",
    "\n",
    "from bs4 import BeautifulSoup"
   ]
  },
  {
   "cell_type": "code",
   "execution_count": 2,
   "metadata": {},
   "outputs": [],
   "source": [
    "directories = {\n",
    "    \"rowling\": \"../data/jk_rowling/\"\n",
    "}"
   ]
  },
  {
   "cell_type": "code",
   "execution_count": 12,
   "metadata": {},
   "outputs": [],
   "source": [
    "def list_dir_recursive(d, files = []):\n",
    "    if os.path.isdir(d):\n",
    "        for f in os.listdir(d):\n",
    "            path = os.path.join(d, f)\n",
    "            list_dir_recursive(path, files)\n",
    "    files.append(d)\n",
    "    return files"
   ]
  },
  {
   "cell_type": "code",
   "execution_count": 33,
   "metadata": {},
   "outputs": [],
   "source": [
    "def write_author(author):\n",
    "    directory = directories[\"rowling\"]\n",
    "    with open(\"../data/rowling.txt\", \"w\") as o:\n",
    "        for f in list_dir_recursive(directory):\n",
    "            if re.search(\"epub$\", f):\n",
    "                ebook = ebooklib.epub.read_epub(f)\n",
    "                for item in ebook.get_items_of_type(9):\n",
    "                    soup = BeautifulSoup(item.content)\n",
    "                    for p in soup.find_all(\"p\"):\n",
    "                        if len(p.text) > 2:\n",
    "                            o.write(p.text.encode(\"UTF-8\"))\n",
    "                            o.write(\"\\n\\n\")"
   ]
  },
  {
   "cell_type": "code",
   "execution_count": 34,
   "metadata": {},
   "outputs": [],
   "source": [
    "write_author(\"rowling\")"
   ]
  },
  {
   "cell_type": "code",
   "execution_count": 31,
   "metadata": {},
   "outputs": [],
   "source": [
    "x = \"eric\""
   ]
  },
  {
   "cell_type": "code",
   "execution_count": 32,
   "metadata": {},
   "outputs": [
    {
     "data": {
      "text/plain": [
       "4"
      ]
     },
     "execution_count": 32,
     "metadata": {},
     "output_type": "execute_result"
    }
   ],
   "source": [
    "len(x)"
   ]
  },
  {
   "cell_type": "code",
   "execution_count": null,
   "metadata": {},
   "outputs": [],
   "source": []
  }
 ],
 "metadata": {
  "kernelspec": {
   "display_name": "Python 2",
   "language": "python",
   "name": "python2"
  },
  "language_info": {
   "codemirror_mode": {
    "name": "ipython",
    "version": 2
   },
   "file_extension": ".py",
   "mimetype": "text/x-python",
   "name": "python",
   "nbconvert_exporter": "python",
   "pygments_lexer": "ipython2",
   "version": "2.7.15"
  }
 },
 "nbformat": 4,
 "nbformat_minor": 2
}
