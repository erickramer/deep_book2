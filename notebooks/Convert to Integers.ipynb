{
 "cells": [
  {
   "cell_type": "code",
   "execution_count": 100,
   "metadata": {},
   "outputs": [],
   "source": [
    "import spacy\n",
    "import re\n",
    "from ebooklib import epub\n",
    "from bs4 import BeautifulSoup\n",
    "import numpy as np"
   ]
  },
  {
   "cell_type": "markdown",
   "metadata": {},
   "source": [
    "## Loading NLP model"
   ]
  },
  {
   "cell_type": "code",
   "execution_count": 6,
   "metadata": {},
   "outputs": [],
   "source": [
    "nlp = spacy.load(\"en_core_web_md\")"
   ]
  },
  {
   "cell_type": "markdown",
   "metadata": {},
   "source": [
    "## Loading an Ebook"
   ]
  },
  {
   "cell_type": "code",
   "execution_count": 27,
   "metadata": {},
   "outputs": [],
   "source": [
    "path = \"../data/jk_rowling/4 - Harry Potter and the Goblet of Fire/Harry Potter 4 - Harry Potter and the Goblet of Fire - J. K. Rowling & Mary Grandpre.epub\""
   ]
  },
  {
   "cell_type": "code",
   "execution_count": 33,
   "metadata": {},
   "outputs": [],
   "source": [
    "ebook = epub.read_epub(path)"
   ]
  },
  {
   "cell_type": "code",
   "execution_count": 35,
   "metadata": {},
   "outputs": [],
   "source": [
    "chapters = [item.content for item in ebook.get_items_of_type(9)]"
   ]
  },
  {
   "cell_type": "code",
   "execution_count": 65,
   "metadata": {
    "scrolled": false
   },
   "outputs": [
    {
     "name": "stdout",
     "output_type": "stream",
     "text": [
      "Found 1 paragraphs in chapter 1\n",
      "Found 0 tokens in chapter 1\n",
      "Found 16 paragraphs in chapter 2\n",
      "Found 31 tokens in chapter 2\n",
      "Found 10 paragraphs in chapter 3\n",
      "Found 26 tokens in chapter 3\n",
      "Found 25 paragraphs in chapter 4\n",
      "Found 272 tokens in chapter 4\n",
      "Found 113 paragraphs in chapter 5\n",
      "Found 5252 tokens in chapter 5\n",
      "Found 51 paragraphs in chapter 6\n",
      "Found 3395 tokens in chapter 6\n",
      "Found 108 paragraphs in chapter 7\n",
      "Found 3959 tokens in chapter 7\n",
      "Found 104 paragraphs in chapter 8\n",
      "Found 3896 tokens in chapter 8\n",
      "Found 118 paragraphs in chapter 9\n",
      "Found 4985 tokens in chapter 9\n",
      "Found 93 paragraphs in chapter 10\n",
      "Found 3187 tokens in chapter 10\n",
      "Found 171 paragraphs in chapter 11\n",
      "Found 6940 tokens in chapter 11\n",
      "Found 162 paragraphs in chapter 12\n",
      "Found 7504 tokens in chapter 12\n",
      "Found 269 paragraphs in chapter 13\n",
      "Found 9774 tokens in chapter 13\n",
      "Found 122 paragraphs in chapter 14\n",
      "Found 4378 tokens in chapter 14\n",
      "Found 127 paragraphs in chapter 15\n",
      "Found 4434 tokens in chapter 15\n",
      "Found 204 paragraphs in chapter 16\n",
      "Found 7112 tokens in chapter 16\n",
      "Found 165 paragraphs in chapter 17\n",
      "Found 5222 tokens in chapter 17\n",
      "Found 189 paragraphs in chapter 18\n",
      "Found 6435 tokens in chapter 18\n",
      "Found 171 paragraphs in chapter 19\n",
      "Found 6666 tokens in chapter 19\n",
      "Found 208 paragraphs in chapter 20\n",
      "Found 7903 tokens in chapter 20\n",
      "Found 149 paragraphs in chapter 21\n",
      "Found 5472 tokens in chapter 21\n",
      "Found 237 paragraphs in chapter 22\n",
      "Found 8673 tokens in chapter 22\n",
      "Found 185 paragraphs in chapter 23\n",
      "Found 8203 tokens in chapter 23\n",
      "Found 221 paragraphs in chapter 24\n",
      "Found 9282 tokens in chapter 24\n",
      "Found 193 paragraphs in chapter 25\n",
      "Found 7462 tokens in chapter 25\n",
      "Found 195 paragraphs in chapter 26\n",
      "Found 6054 tokens in chapter 26\n",
      "Found 258 paragraphs in chapter 27\n",
      "Found 10698 tokens in chapter 27\n",
      "Found 206 paragraphs in chapter 28\n",
      "Found 8408 tokens in chapter 28\n",
      "Found 195 paragraphs in chapter 29\n",
      "Found 7368 tokens in chapter 29\n",
      "Found 237 paragraphs in chapter 30\n",
      "Found 10225 tokens in chapter 30\n",
      "Found 222 paragraphs in chapter 31\n",
      "Found 9177 tokens in chapter 31\n",
      "Found 297 paragraphs in chapter 32\n",
      "Found 9915 tokens in chapter 32\n",
      "Found 174 paragraphs in chapter 33\n",
      "Found 5938 tokens in chapter 33\n",
      "Found 212 paragraphs in chapter 34\n",
      "Found 8346 tokens in chapter 34\n",
      "Found 279 paragraphs in chapter 35\n",
      "Found 10318 tokens in chapter 35\n",
      "Found 62 paragraphs in chapter 36\n",
      "Found 2474 tokens in chapter 36\n",
      "Found 112 paragraphs in chapter 37\n",
      "Found 5130 tokens in chapter 37\n",
      "Found 74 paragraphs in chapter 38\n",
      "Found 3659 tokens in chapter 38\n",
      "Found 176 paragraphs in chapter 39\n",
      "Found 7702 tokens in chapter 39\n",
      "Found 4 paragraphs in chapter 40\n",
      "Found 4 tokens in chapter 40\n",
      "Found 206 paragraphs in chapter 41\n",
      "Found 8076 tokens in chapter 41\n",
      "Found 189 paragraphs in chapter 42\n",
      "Found 6547 tokens in chapter 42\n",
      "Found 0 paragraphs in chapter 43\n"
     ]
    }
   ],
   "source": [
    "docs = []\n",
    "ints = []\n",
    "for i, chapter in enumerate(chapters):\n",
    "    soup = BeautifulSoup(chapter)\n",
    "    paragraphs = soup.find_all(\"p\")\n",
    "    paragraphs = [p.text for p in paragraphs]\n",
    "    print \"Found %i paragraphs in chapter %i\" % (len(paragraphs), i+1)\n",
    "    \n",
    "    if len(paragraphs) > 0:\n",
    "        text = \"\\n\".join(paragraphs)\n",
    "        doc = nlp(text)\n",
    "        print \"Found %i tokens in chapter %i\" % (len(doc), i+1)\n",
    "        if len(doc) > 0:\n",
    "            docs.append(doc)\n",
    "            \n",
    "            for token in doc:\n",
    "                ints.append(to_int(token))"
   ]
  }
 ],
 "metadata": {
  "kernelspec": {
   "display_name": "Python 2",
   "language": "python",
   "name": "python2"
  },
  "language_info": {
   "codemirror_mode": {
    "name": "ipython",
    "version": 2
   },
   "file_extension": ".py",
   "mimetype": "text/x-python",
   "name": "python",
   "nbconvert_exporter": "python",
   "pygments_lexer": "ipython2",
   "version": "2.7.15"
  }
 },
 "nbformat": 4,
 "nbformat_minor": 2
}
